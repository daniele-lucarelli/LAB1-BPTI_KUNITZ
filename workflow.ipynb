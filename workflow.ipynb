{
 "cells": [
  {
   "cell_type": "markdown",
   "metadata": {
    "colab_type": "text",
    "id": "r9Sj3xBqkwdz"
   },
   "source": [
    "# **BPTI-KUNITZ DOMAIN**\n",
    "\n",
    "The aim of this project is building an HMM of the Kunitz-BPTI domain starting from structural information. This HMM to be then validated against SwissProt."
   ]
  },
  {
   "cell_type": "markdown",
   "metadata": {
    "colab_type": "text",
    "id": "Ba5lOi9FlWxa"
   },
   "source": [
    "### **PDB SEARCH**\n",
    "\n",
    "The first step is to retrieve all the available 3d structures carrying a PF00014 domain.\n",
    "\n",
    "PDB advanced search:\n",
    "-resolution <= 3.5 angstroms AND PF00014\n",
    "\n"
   ]
  },
  {
   "cell_type": "markdown",
   "metadata": {
    "colab_type": "text",
    "id": "PoDwbd7x2Lct"
   },
   "source": [
    "## **PDBe FOLD**\n",
    "\n",
    "The chain I of 3TGI known as a PF00014 has been ran against the list of IDs (from the previous pdb search)  in PDBe FOLD to retrieve the portion of the PF00014 sequence for all these stuctures.\n",
    "\n",
    "\n",
    "The cluster of representative sequences has been generated using CD-HIT to remove redundancy from the PDBe fold result:\n"
   ]
  },
  {
   "cell_type": "code",
   "execution_count": 1,
   "metadata": {},
   "outputs": [
    {
     "name": "stdout",
     "output_type": "stream",
     "text": [
      "================================================================\n",
      "Program: CD-HIT, V4.8.1, Mar 01 2019, 06:12:48\n",
      "Command: cd-hit -i PDBe_FOLD_result -o cluster.txt\n",
      "\n",
      "Started: Sun May  3 09:09:05 2020\n",
      "================================================================\n",
      "                            Output                              \n",
      "----------------------------------------------------------------\n",
      "total seq: 206\n",
      "longest and shortest : 65 and 52\n",
      "Total letters: 11718\n",
      "Sequences have been sorted\n",
      "\n",
      "Approximated minimal memory consumption:\n",
      "Sequence        : 0M\n",
      "Buffer          : 1 X 10M = 10M\n",
      "Table           : 1 X 65M = 65M\n",
      "Miscellaneous   : 0M\n",
      "Total           : 75M\n",
      "\n",
      "Table limit with the given memory limit:\n",
      "Max number of representatives: 4000000\n",
      "Max number of word counting entries: 90513177\n",
      "\n",
      "comparing sequences from          0  to        206\n",
      "\n",
      "      206  finished         13  clusters\n",
      "\n",
      "Approximated maximum memory consumption: 75M\n",
      "writing new database\n",
      "writing clustering information\n",
      "program completed !\n",
      "\n",
      "Total CPU time 0.05\n"
     ]
    }
   ],
   "source": [
    "!cd-hit -i PDBe_FOLD_result  -o cluster.txt"
   ]
  },
  {
   "cell_type": "markdown",
   "metadata": {
    "colab_type": "text",
    "id": "7OgpZ__R587j"
   },
   "source": [
    "From this file the IDs and the chains have been retrieved with:"
   ]
  },
  {
   "cell_type": "code",
   "execution_count": null,
   "metadata": {
    "colab": {},
    "colab_type": "code",
    "id": "2uWjELzI3IIZ"
   },
   "outputs": [],
   "source": [
    "!cat cluster.txt|grep \">\"|awk 'BEGIN {FS=OFS=\":\"} {print $2, $3}'| cut -d \" \" -f 1 > Cluster_ids.txt"
   ]
  },
  {
   "cell_type": "markdown",
   "metadata": {},
   "source": [
    "Then a multiple structure alignments with PDBe fold has been performed on this set.\n",
    "The sequence alignment derived from structural alignment has been downloaded and used to generate the HMM model using HAMMER "
   ]
  },
  {
   "cell_type": "code",
   "execution_count": 2,
   "metadata": {},
   "outputs": [
    {
     "name": "stdout",
     "output_type": "stream",
     "text": [
      "# hmmbuild :: profile HMM construction from multiple sequence alignments\n",
      "# HMMER 3.3 (Nov 2019); http://hmmer.org/\n",
      "# Copyright (C) 2019 Howard Hughes Medical Institute.\n",
      "# Freely distributed under the BSD open source license.\n",
      "# - - - - - - - - - - - - - - - - - - - - - - - - - - - - - - - - - - - -\n",
      "# input alignment file:             PDBe-fold_seq_ali.txt\n",
      "# output HMM file:                  Bpti-kunitz.hmm\n",
      "# - - - - - - - - - - - - - - - - - - - - - - - - - - - - - - - - - - - -\n",
      "\n",
      "# idx name                  nseq  alen  mlen eff_nseq re/pos description\n",
      "#---- -------------------- ----- ----- ----- -------- ------ -----------\n",
      "1     PDBe-fold_seq_ali       13    69    58     1.89  0.960 \n",
      "\n",
      "# CPU time: 0.03u 0.00s 00:00:00.03 Elapsed: 00:00:00.03\n"
     ]
    }
   ],
   "source": [
    "!hmmbuild Bpti-kunitz.hmm PDBe-fold_seq_ali.txt"
   ]
  },
  {
   "cell_type": "markdown",
   "metadata": {},
   "source": [
    "The logo from the resulting HMM model has been generated with skylign"
   ]
  },
  {
   "cell_type": "markdown",
   "metadata": {},
   "source": [
    "# **Filtering of seed sequences from the positive set¶**\n",
    "\n",
    "The PF00014 set has been downloaded from Uniprot.\n",
    "To remove the sequences used to build the model.\n",
    "I can do it by blasting the positives against the curated seed used to build the model. "
   ]
  },
  {
   "cell_type": "code",
   "execution_count": 3,
   "metadata": {},
   "outputs": [
    {
     "name": "stdout",
     "output_type": "stream",
     "text": [
      "\n",
      "\n",
      "Building a new DB, current time: 05/03/2020 09:10:10\n",
      "New DB name:   /Users/danielelucarelli/Desktop/desktop/bioinformatic /unibo/2 semestre/lab1/capriotti/data_rep/def/cluster.txt\n",
      "New DB title:  cluster.txt\n",
      "Sequence type: Protein\n",
      "Deleted existing Protein BLAST database named /Users/danielelucarelli/Desktop/desktop/bioinformatic /unibo/2 semestre/lab1/capriotti/data_rep/def/cluster.txt\n",
      "Keep MBits: T\n",
      "Maximum file size: 1000000000B\n",
      "Adding sequences from FASTA; added 13 sequences in 0.00409913 seconds.\n",
      "\n",
      "\n"
     ]
    }
   ],
   "source": [
    "!makeblastdb -in cluster.txt -dbtype prot\n"
   ]
  },
  {
   "cell_type": "code",
   "execution_count": 4,
   "metadata": {},
   "outputs": [],
   "source": [
    "!psiblast -query PF00014.fasta -db cluster.txt -outfmt 6 -out blast_PF00014vscluster.txt\n"
   ]
  },
  {
   "cell_type": "markdown",
   "metadata": {},
   "source": [
    "**data filtering**\n",
    "From the blast result the IDs of all the sequences with a percent identity more than 95 and an alignment coverage shorter than 52 have been retrieved and excluded from the PF00014 fasta file."
   ]
  },
  {
   "cell_type": "code",
   "execution_count": null,
   "metadata": {},
   "outputs": [],
   "source": [
    "!awk '{if($3<=95 && $4>52) split($1,v,\"|\"); print v[2]}' blast_PF00014vscluster.txt|sort -u > Blast_ID_list.txt"
   ]
  },
  {
   "cell_type": "code",
   "execution_count": null,
   "metadata": {},
   "outputs": [],
   "source": [
    "! ./scripts/get_blast_id_retrieve-sequences.py Blast_ID_list.txt PF00014.fasta POSITIVE_nocluster.txt 1"
   ]
  },
  {
   "cell_type": "markdown",
   "metadata": {},
   "source": [
    "## ** TRAIN & TEST **\n",
    "\n",
    "All the not PF00014 proteins has been downloaded from Uniprot and they will be used as negative set.\n",
    "\n",
    "**data preparation**\n",
    "An **hmm search** of the profile against the sequences has been generated in the 2 subsets\n"
   ]
  },
  {
   "cell_type": "code",
   "execution_count": null,
   "metadata": {},
   "outputs": [],
   "source": [
    "!hmmsearch --cpu 6 --noali --max -Z 1 --tblout positive_set.txt Bpti-kunitz.hmm POSITIVE_nocluster.txt"
   ]
  },
  {
   "cell_type": "code",
   "execution_count": null,
   "metadata": {},
   "outputs": [],
   "source": [
    "!hmmsearch --cpu 8 --noali --max -Z 1  --tblout NEGATIVE_set.txt Bpti-kunitz.hmm total_uniprot_notPF00014.fasta"
   ]
  },
  {
   "cell_type": "markdown",
   "metadata": {},
   "source": [
    "**data extraction**\n",
    "A new tab separated file with each protein ID, the best domain e-value and a label (0 negatives,1 positives) has been created for each set."
   ]
  },
  {
   "cell_type": "code",
   "execution_count": null,
   "metadata": {},
   "outputs": [],
   "source": [
    "! awk '!/^#/ {split($1,v,\"|\"); print v[2],$8,1}' positive_set.txt|sort -gk 2 >OK_positive_set.txt"
   ]
  },
  {
   "cell_type": "code",
   "execution_count": null,
   "metadata": {},
   "outputs": [],
   "source": [
    "! awk '!/^#/ {split($1,v,\"|\"); print v[2],$8,0}' NEGATIVE_set.txt|sort -gk 2 >OK_negative_set.txt"
   ]
  },
  {
   "cell_type": "markdown",
   "metadata": {},
   "source": [
    "For the negative set the sequences which has not passed trought the filtering step of the HMM search has been exluded. In order to reintegrate them i will add an e-value of 11 by default to them (1 point above the max e-value used by default by HMM search)"
   ]
  },
  {
   "cell_type": "code",
   "execution_count": null,
   "metadata": {},
   "outputs": [],
   "source": [
    "!comm <(awk '/^>/{split($1,a,\"|\"); print a[2]}' <total_uniprot_notPF00014.fasta |sort) <(awk '{print$1}' OK_negative_set.txt|sort)|awk -F '\\t' '{if ($1!=\"\") print $1,11,0}'>excluded_negatives.txt"
   ]
  },
  {
   "cell_type": "markdown",
   "metadata": {},
   "source": [
    "Now all the sets can be merged"
   ]
  },
  {
   "cell_type": "code",
   "execution_count": null,
   "metadata": {},
   "outputs": [],
   "source": [
    "! cat OK_positive_set.txt OK_negative_set.txt excluded_negatives.txt > SET.txt"
   ]
  },
  {
   "cell_type": "code",
   "execution_count": 9,
   "metadata": {},
   "outputs": [
    {
     "name": "stdout",
     "output_type": "stream",
     "text": [
      "     335    1005    5599\n"
     ]
    }
   ],
   "source": [
    "! grep '1$' SET.txt|wc"
   ]
  },
  {
   "cell_type": "markdown",
   "metadata": {},
   "source": [
    "Just to check that anything has worked properly"
   ]
  },
  {
   "cell_type": "markdown",
   "metadata": {},
   "source": [
    "And converted to csv format"
   ]
  },
  {
   "cell_type": "code",
   "execution_count": 10,
   "metadata": {},
   "outputs": [],
   "source": [
    "!python3 ./scripts/convert_to_csv.py SET.txt SET.csv"
   ]
  },
  {
   "cell_type": "markdown",
   "metadata": {},
   "source": [
    "The following scrpit perform a stratified **k-fold cross validation** of the method dividing the dataset in three subsets."
   ]
  },
  {
   "cell_type": "code",
   "execution_count": 5,
   "metadata": {},
   "outputs": [
    {
     "name": "stdout",
     "output_type": "stream",
     "text": [
      "\n",
      "Splitting the dataset  3 times\n",
      "1e-20 0.9999288113090354 0.9383730228764705\n",
      "1e-19 0.9999483881990507 0.9557170400557664\n",
      "1e-18 0.9999679650890659 0.9727525394490515\n",
      "1e-17 0.9999786433927106 0.9819203476011275\n",
      "1e-16 0.9999822028272589 0.9849573650077618\n",
      "1e-15 0.999983982544533 0.9864723757009461\n",
      "1e-14 0.9999875419790812 0.9894954546210867\n",
      "1e-13 0.9999928811309036 0.994012875058743\n",
      "1e-12 0.9999928811309036 0.994012875058743\n",
      "1e-11 0.9999928811309036 0.994012875058743\n",
      "1e-10 0.9999928811309036 0.994012875058743\n",
      "1e-09 0.9999964405654518 0.9970131445941504\n",
      "1e-08 0.9999946608481777 0.9955274968095258\n",
      "1e-07 0.9999928811309036 0.9940484652909726\n",
      "1e-06 0.9999875419790812 0.989650581142807\n",
      "1e-05 0.9999786433927106 0.9824486267631763\n",
      "0.0001 0.9999608462199695 0.9686787843654876\n",
      "0.001 0.9996992277806748 0.815157961610284\n",
      "0.01 0.9968410018384479 0.39782650264524805\n",
      "0.1 0.9581535077337614 0.11601344178493521\n",
      "1 0.7059729091436534 0.03779239616656858\n",
      "Fold  1\n",
      "selected threshold 1e-09\n",
      "    Training     \tTest \n",
      "ACC 0.9999946608434266 1.0\n",
      "MCC 0.9955130238987886 1.0\n",
      "Confusion Matrix train\n",
      " [[   222      1]\n",
      " [     1 374367]]\n",
      "Confusion Matrix test\n",
      " [[   112      0]\n",
      " [     0 187184]]\n",
      "\n",
      "False positives in the test set\n",
      "Empty DataFrame\n",
      "Columns: [ID, Evalue, Label]\n",
      "Index: []\n",
      "\n",
      "False negatives in the test set\n",
      "Empty DataFrame\n",
      "Columns: [ID, Evalue, Label]\n",
      "Index: []\n",
      "1e-20 0.9999288113090354 0.9383730228764705\n",
      "1e-19 0.9999483881990507 0.9557170400557664\n",
      "1e-18 0.9999679650890659 0.9727525394490515\n",
      "1e-17 0.9999786433927106 0.9819203476011275\n",
      "1e-16 0.9999822028272589 0.9849573650077618\n",
      "1e-15 0.999983982544533 0.9864723757009461\n",
      "1e-14 0.9999875419790812 0.9894954546210867\n",
      "1e-13 0.9999928811309036 0.994012875058743\n",
      "1e-12 0.9999928811309036 0.994012875058743\n",
      "1e-11 0.9999928811309036 0.994012875058743\n",
      "1e-10 0.9999928811309036 0.994012875058743\n",
      "1e-09 0.9999964405654518 0.9970131445941504\n",
      "1e-08 0.9999946608481777 0.9955274968095258\n",
      "1e-07 0.9999928811309036 0.9940484652909726\n",
      "1e-06 0.9999875419790812 0.989650581142807\n",
      "1e-05 0.9999786433927106 0.9824486267631763\n",
      "0.0001 0.9999608462199695 0.9686787843654876\n",
      "0.001 0.9996992277806748 0.815157961610284\n",
      "0.01 0.9968410018384479 0.39782650264524805\n",
      "0.1 0.9581535077337614 0.11601344178493521\n",
      "1 0.7059729091436534 0.03779239616656858\n",
      "Fold  2\n",
      "selected threshold 1e-09\n",
      "    Training     \tTest \n",
      "ACC 0.9999973304217132 0.9999946608576799\n",
      "MCC 0.9977539956743975 0.9955627290222563\n",
      "Confusion Matrix train\n",
      " [[   222      1]\n",
      " [     0 374368]]\n",
      "Confusion Matrix test\n",
      " [[   112      0]\n",
      " [     1 187183]]\n",
      "\n",
      "False positives in the test set\n",
      "         ID        Evalue  Label\n",
      "335  G3LH89  8.500000e-25      0\n",
      "\n",
      "False negatives in the test set\n",
      "Empty DataFrame\n",
      "Columns: [ID, Evalue, Label]\n",
      "Index: []\n",
      "1e-20 0.9999288113090354 0.9383730228764705\n",
      "1e-19 0.9999483881990507 0.9557170400557664\n",
      "1e-18 0.9999679650890659 0.9727525394490515\n",
      "1e-17 0.9999786433927106 0.9819203476011275\n",
      "1e-16 0.9999822028272589 0.9849573650077618\n",
      "1e-15 0.999983982544533 0.9864723757009461\n",
      "1e-14 0.9999875419790812 0.9894954546210867\n",
      "1e-13 0.9999928811309036 0.994012875058743\n",
      "1e-12 0.9999928811309036 0.994012875058743\n",
      "1e-11 0.9999928811309036 0.994012875058743\n",
      "1e-10 0.9999928811309036 0.994012875058743\n",
      "1e-09 0.9999964405654518 0.9970131445941504\n",
      "1e-08 0.9999946608481777 0.9955274968095258\n",
      "1e-07 0.9999928811309036 0.9940484652909726\n",
      "1e-06 0.9999875419790812 0.989650581142807\n",
      "1e-05 0.9999786433927106 0.9824486267631763\n",
      "0.0001 0.9999608462199695 0.9686787843654876\n",
      "0.001 0.9996992277806748 0.815157961610284\n",
      "0.01 0.9968410018384479 0.39782650264524805\n",
      "0.1 0.9581535077337614 0.11601344178493521\n",
      "1 0.7059729091436534 0.03779239616656858\n",
      "Fold  3\n",
      "selected threshold 1e-09\n",
      "    Training     \tTest \n",
      "ACC 0.9999973304288399 0.9999946608291732\n",
      "MCC 0.9977739705258598 0.9954826451583594\n",
      "Confusion Matrix train\n",
      " [[   224      0]\n",
      " [     1 374367]]\n",
      "Confusion Matrix test\n",
      " [[   110      1]\n",
      " [     0 187184]]\n",
      "\n",
      "False positives in the test set\n",
      "Empty DataFrame\n",
      "Columns: [ID, Evalue, Label]\n",
      "Index: []\n",
      "\n",
      "False negatives in the test set\n",
      "         ID    Evalue  Label\n",
      "334  O62247  0.000016      1\n"
     ]
    }
   ],
   "source": [
    "!python3 ./scripts/TrainingHMM.py SET.csv"
   ]
  },
  {
   "cell_type": "markdown",
   "metadata": {},
   "source": [
    "## The best threshold is 1e-09 with only one false positve and one false negative"
   ]
  }
 ],
 "metadata": {
  "colab": {
   "collapsed_sections": [],
   "name": "Untitled0.ipynb",
   "provenance": []
  },
  "kernelspec": {
   "display_name": "Python 3",
   "language": "python",
   "name": "python3"
  },
  "language_info": {
   "codemirror_mode": {
    "name": "ipython",
    "version": 3
   },
   "file_extension": ".py",
   "mimetype": "text/x-python",
   "name": "python",
   "nbconvert_exporter": "python",
   "pygments_lexer": "ipython3",
   "version": "3.7.6"
  }
 },
 "nbformat": 4,
 "nbformat_minor": 4
}
